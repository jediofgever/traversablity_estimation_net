{
 "cells": [
  {
   "cell_type": "code",
   "execution_count": 9,
   "id": "21f18528-1b6d-4996-96a4-78344252f43d",
   "metadata": {},
   "outputs": [
    {
     "name": "stdout",
     "output_type": "stream",
     "text": [
      "2.0.0+cu117\n"
     ]
    }
   ],
   "source": [
    "import os\n",
    "\n",
    "import matplotlib.pyplot as plt\n",
    "import numpy as np\n",
    "import torch\n",
    "import torch.nn as nn\n",
    "import torch.optim as optim\n",
    "from torch.utils.data import DataLoader\n",
    "from torchvision.datasets import DatasetFolder\n",
    "from tqdm import tqdm\n",
    "os.environ['TORCH'] = torch.__version__\n",
    "print(torch.__version__)"
   ]
  },
  {
   "cell_type": "code",
   "execution_count": 10,
   "id": "53fd2094-83a1-49f2-a959-4ba5f6bf1544",
   "metadata": {},
   "outputs": [],
   "source": [
    "#from dataset import TerrainDataset\n",
    "from datasetIMU import TerrainDatasetIMU\n",
    "#from pointnet import PointNet\n",
    "#from pointnetCurv import PointNetCurv\n",
    "\n",
    "dataset = TerrainDatasetIMU(root='/home/atas/RESEARCH/traversablity_estimation_net/data_imu',train=True)\n"
   ]
  },
  {
   "cell_type": "code",
   "execution_count": 11,
   "id": "2f6029fd",
   "metadata": {},
   "outputs": [
    {
     "data": {
      "application/javascript": "google.colab.output.setIframeHeight(0, true, {maxHeight: 300})",
      "text/plain": [
       "<IPython.core.display.Javascript object>"
      ]
     },
     "metadata": {},
     "output_type": "display_data"
    }
   ],
   "source": [
    "from IPython.display import Javascript  # Restrict height of output cell.\n",
    "display(Javascript('''google.colab.output.setIframeHeight(0, true, {maxHeight: 300})'''))\n",
    "\n",
    "from torch_geometric.loader import DataLoader\n",
    "from pointnet_curv import PointnetCurv\n",
    "\n",
    "train_dataset =  TerrainDatasetIMU(root='/home/atas/RESEARCH/traversablity_estimation_net/data_imu', train=True )\n",
    "test_dataset = TerrainDatasetIMU(root='/home/atas/RESEARCH/traversablity_estimation_net/data_imu', train=False)\n",
    "\n",
    "train_loader = DataLoader(train_dataset, batch_size=1, shuffle=True)\n",
    "test_loader = DataLoader(test_dataset, batch_size=1)\n",
    "\n",
    "model = PointnetCurv()\n",
    "optimizer = torch.optim.Adam(model.parameters(), lr=0.001)\n",
    "#criterion = torch.nn.MSELoss()  # Mean Squared Error Loss Function\n",
    "criterion = torch.nn.L1Loss()  # Mean Absolute Error (L1 Loss Function)\n",
    "\n",
    "def train(model, optimizer, loader):\n",
    "    model.train()\n",
    "    total_loss = 0.0\n",
    "    for data in loader:\n",
    "        optimizer.zero_grad()                   # Clear gradients.\n",
    "        # reshape to have 1 at the end\n",
    "        data.pos = data.pos.reshape((data.pos.shape[0], data.pos.shape[1], 1))\n",
    "        \n",
    "        \n",
    "        logits = model(data.pos, data.face, data.batch)                # Forward pass.\n",
    "        loss = criterion(logits, data.y)        # Loss computation.\n",
    "        loss.backward()                         # Backward pass.\n",
    "        optimizer.step()                        # Update model parameters.\n",
    "        total_loss += loss.item()\n",
    "\n",
    "    return total_loss\n",
    "\n",
    "\n",
    "@torch.no_grad()\n",
    "def test(model, loader):\n",
    "    model.eval()\n",
    "\n",
    "    error = 0.0\n",
    "    for data in loader:\n",
    "        data.pos = data.pos.reshape((data.pos.shape[0], data.pos.shape[1], 1))\n",
    "        pred = model(data.pos, data.face, data.batch)\n",
    "        error += torch.pow((pred - data.y), 2).sum().item()\n",
    "    \n",
    "    # convert error to percentage accuracy\n",
    "    return error"
   ]
  },
  {
   "cell_type": "code",
   "execution_count": 12,
   "id": "670dec50-952b-4115-b79d-b302b1b960b2",
   "metadata": {},
   "outputs": [
    {
     "ename": "RuntimeError",
     "evalue": "Given groups=1, weight of size [64, 4, 1], expected input[207, 6, 1] to have 4 channels, but got 6 channels instead",
     "output_type": "error",
     "traceback": [
      "\u001b[0;31m---------------------------------------------------------------------------\u001b[0m",
      "\u001b[0;31mRuntimeError\u001b[0m                              Traceback (most recent call last)",
      "\u001b[1;32m/home/atas/RESEARCH/traversablity_estimation_net/scripts/pointnetpp_regression.ipynb Cell 4\u001b[0m line \u001b[0;36m6\n\u001b[1;32m      <a href='vscode-notebook-cell:/home/atas/RESEARCH/traversablity_estimation_net/scripts/pointnetpp_regression.ipynb#W3sZmlsZQ%3D%3D?line=3'>4</a>\u001b[0m \u001b[39m# Save every 10th epoch model.\u001b[39;00m\n\u001b[1;32m      <a href='vscode-notebook-cell:/home/atas/RESEARCH/traversablity_estimation_net/scripts/pointnetpp_regression.ipynb#W3sZmlsZQ%3D%3D?line=4'>5</a>\u001b[0m \u001b[39mfor\u001b[39;00m epoch \u001b[39min\u001b[39;00m \u001b[39mrange\u001b[39m(\u001b[39m1\u001b[39m, \u001b[39m300\u001b[39m):\n\u001b[0;32m----> <a href='vscode-notebook-cell:/home/atas/RESEARCH/traversablity_estimation_net/scripts/pointnetpp_regression.ipynb#W3sZmlsZQ%3D%3D?line=5'>6</a>\u001b[0m     loss \u001b[39m=\u001b[39m train(model, optimizer, train_loader)\n\u001b[1;32m      <a href='vscode-notebook-cell:/home/atas/RESEARCH/traversablity_estimation_net/scripts/pointnetpp_regression.ipynb#W3sZmlsZQ%3D%3D?line=6'>7</a>\u001b[0m     mse \u001b[39m=\u001b[39m test(model, test_loader)\n\u001b[1;32m      <a href='vscode-notebook-cell:/home/atas/RESEARCH/traversablity_estimation_net/scripts/pointnetpp_regression.ipynb#W3sZmlsZQ%3D%3D?line=7'>8</a>\u001b[0m     \u001b[39mif\u001b[39;00m epoch \u001b[39m%\u001b[39m \u001b[39m50\u001b[39m \u001b[39m==\u001b[39m \u001b[39m0\u001b[39m:\n",
      "\u001b[1;32m/home/atas/RESEARCH/traversablity_estimation_net/scripts/pointnetpp_regression.ipynb Cell 4\u001b[0m line \u001b[0;36m2\n\u001b[1;32m     <a href='vscode-notebook-cell:/home/atas/RESEARCH/traversablity_estimation_net/scripts/pointnetpp_regression.ipynb#W3sZmlsZQ%3D%3D?line=22'>23</a>\u001b[0m \u001b[39m# reshape to have 1 at the end\u001b[39;00m\n\u001b[1;32m     <a href='vscode-notebook-cell:/home/atas/RESEARCH/traversablity_estimation_net/scripts/pointnetpp_regression.ipynb#W3sZmlsZQ%3D%3D?line=23'>24</a>\u001b[0m data\u001b[39m.\u001b[39mpos \u001b[39m=\u001b[39m data\u001b[39m.\u001b[39mpos\u001b[39m.\u001b[39mreshape((data\u001b[39m.\u001b[39mpos\u001b[39m.\u001b[39mshape[\u001b[39m0\u001b[39m], data\u001b[39m.\u001b[39mpos\u001b[39m.\u001b[39mshape[\u001b[39m1\u001b[39m], \u001b[39m1\u001b[39m))\n\u001b[0;32m---> <a href='vscode-notebook-cell:/home/atas/RESEARCH/traversablity_estimation_net/scripts/pointnetpp_regression.ipynb#W3sZmlsZQ%3D%3D?line=26'>27</a>\u001b[0m logits \u001b[39m=\u001b[39m model(data\u001b[39m.\u001b[39;49mpos, data\u001b[39m.\u001b[39;49mface, data\u001b[39m.\u001b[39;49mbatch)                \u001b[39m# Forward pass.\u001b[39;00m\n\u001b[1;32m     <a href='vscode-notebook-cell:/home/atas/RESEARCH/traversablity_estimation_net/scripts/pointnetpp_regression.ipynb#W3sZmlsZQ%3D%3D?line=27'>28</a>\u001b[0m loss \u001b[39m=\u001b[39m criterion(logits, data\u001b[39m.\u001b[39my)        \u001b[39m# Loss computation.\u001b[39;00m\n\u001b[1;32m     <a href='vscode-notebook-cell:/home/atas/RESEARCH/traversablity_estimation_net/scripts/pointnetpp_regression.ipynb#W3sZmlsZQ%3D%3D?line=28'>29</a>\u001b[0m loss\u001b[39m.\u001b[39mbackward()                         \u001b[39m# Backward pass.\u001b[39;00m\n",
      "File \u001b[0;32m/usr/local/lib/python3.10/dist-packages/torch/nn/modules/module.py:1501\u001b[0m, in \u001b[0;36mModule._call_impl\u001b[0;34m(self, *args, **kwargs)\u001b[0m\n\u001b[1;32m   1496\u001b[0m \u001b[39m# If we don't have any hooks, we want to skip the rest of the logic in\u001b[39;00m\n\u001b[1;32m   1497\u001b[0m \u001b[39m# this function, and just call forward.\u001b[39;00m\n\u001b[1;32m   1498\u001b[0m \u001b[39mif\u001b[39;00m \u001b[39mnot\u001b[39;00m (\u001b[39mself\u001b[39m\u001b[39m.\u001b[39m_backward_hooks \u001b[39mor\u001b[39;00m \u001b[39mself\u001b[39m\u001b[39m.\u001b[39m_backward_pre_hooks \u001b[39mor\u001b[39;00m \u001b[39mself\u001b[39m\u001b[39m.\u001b[39m_forward_hooks \u001b[39mor\u001b[39;00m \u001b[39mself\u001b[39m\u001b[39m.\u001b[39m_forward_pre_hooks\n\u001b[1;32m   1499\u001b[0m         \u001b[39mor\u001b[39;00m _global_backward_pre_hooks \u001b[39mor\u001b[39;00m _global_backward_hooks\n\u001b[1;32m   1500\u001b[0m         \u001b[39mor\u001b[39;00m _global_forward_hooks \u001b[39mor\u001b[39;00m _global_forward_pre_hooks):\n\u001b[0;32m-> 1501\u001b[0m     \u001b[39mreturn\u001b[39;00m forward_call(\u001b[39m*\u001b[39;49margs, \u001b[39m*\u001b[39;49m\u001b[39m*\u001b[39;49mkwargs)\n\u001b[1;32m   1502\u001b[0m \u001b[39m# Do not call functions when jit is used\u001b[39;00m\n\u001b[1;32m   1503\u001b[0m full_backward_hooks, non_full_backward_hooks \u001b[39m=\u001b[39m [], []\n",
      "File \u001b[0;32m~/RESEARCH/traversablity_estimation_net/scripts/pointnet_curv.py:24\u001b[0m, in \u001b[0;36mPointnetCurv.forward\u001b[0;34m(self, x, imu, batch)\u001b[0m\n\u001b[1;32m     23\u001b[0m \u001b[39mdef\u001b[39;00m \u001b[39mforward\u001b[39m(\u001b[39mself\u001b[39m, x, imu, batch):\n\u001b[0;32m---> 24\u001b[0m     x \u001b[39m=\u001b[39m torch\u001b[39m.\u001b[39mrelu(\u001b[39mself\u001b[39;49m\u001b[39m.\u001b[39;49mconv1(x))\n\u001b[1;32m     25\u001b[0m     x \u001b[39m=\u001b[39m torch\u001b[39m.\u001b[39mrelu(\u001b[39mself\u001b[39m\u001b[39m.\u001b[39mconv2(x))\n\u001b[1;32m     26\u001b[0m     x \u001b[39m=\u001b[39m torch\u001b[39m.\u001b[39mmax(x, dim\u001b[39m=\u001b[39m\u001b[39m2\u001b[39m)[\u001b[39m0\u001b[39m]  \u001b[39m# max pooling\u001b[39;00m\n",
      "File \u001b[0;32m/usr/local/lib/python3.10/dist-packages/torch/nn/modules/module.py:1501\u001b[0m, in \u001b[0;36mModule._call_impl\u001b[0;34m(self, *args, **kwargs)\u001b[0m\n\u001b[1;32m   1496\u001b[0m \u001b[39m# If we don't have any hooks, we want to skip the rest of the logic in\u001b[39;00m\n\u001b[1;32m   1497\u001b[0m \u001b[39m# this function, and just call forward.\u001b[39;00m\n\u001b[1;32m   1498\u001b[0m \u001b[39mif\u001b[39;00m \u001b[39mnot\u001b[39;00m (\u001b[39mself\u001b[39m\u001b[39m.\u001b[39m_backward_hooks \u001b[39mor\u001b[39;00m \u001b[39mself\u001b[39m\u001b[39m.\u001b[39m_backward_pre_hooks \u001b[39mor\u001b[39;00m \u001b[39mself\u001b[39m\u001b[39m.\u001b[39m_forward_hooks \u001b[39mor\u001b[39;00m \u001b[39mself\u001b[39m\u001b[39m.\u001b[39m_forward_pre_hooks\n\u001b[1;32m   1499\u001b[0m         \u001b[39mor\u001b[39;00m _global_backward_pre_hooks \u001b[39mor\u001b[39;00m _global_backward_hooks\n\u001b[1;32m   1500\u001b[0m         \u001b[39mor\u001b[39;00m _global_forward_hooks \u001b[39mor\u001b[39;00m _global_forward_pre_hooks):\n\u001b[0;32m-> 1501\u001b[0m     \u001b[39mreturn\u001b[39;00m forward_call(\u001b[39m*\u001b[39;49margs, \u001b[39m*\u001b[39;49m\u001b[39m*\u001b[39;49mkwargs)\n\u001b[1;32m   1502\u001b[0m \u001b[39m# Do not call functions when jit is used\u001b[39;00m\n\u001b[1;32m   1503\u001b[0m full_backward_hooks, non_full_backward_hooks \u001b[39m=\u001b[39m [], []\n",
      "File \u001b[0;32m/usr/local/lib/python3.10/dist-packages/torch/nn/modules/conv.py:313\u001b[0m, in \u001b[0;36mConv1d.forward\u001b[0;34m(self, input)\u001b[0m\n\u001b[1;32m    312\u001b[0m \u001b[39mdef\u001b[39;00m \u001b[39mforward\u001b[39m(\u001b[39mself\u001b[39m, \u001b[39minput\u001b[39m: Tensor) \u001b[39m-\u001b[39m\u001b[39m>\u001b[39m Tensor:\n\u001b[0;32m--> 313\u001b[0m     \u001b[39mreturn\u001b[39;00m \u001b[39mself\u001b[39;49m\u001b[39m.\u001b[39;49m_conv_forward(\u001b[39minput\u001b[39;49m, \u001b[39mself\u001b[39;49m\u001b[39m.\u001b[39;49mweight, \u001b[39mself\u001b[39;49m\u001b[39m.\u001b[39;49mbias)\n",
      "File \u001b[0;32m/usr/local/lib/python3.10/dist-packages/torch/nn/modules/conv.py:309\u001b[0m, in \u001b[0;36mConv1d._conv_forward\u001b[0;34m(self, input, weight, bias)\u001b[0m\n\u001b[1;32m    305\u001b[0m \u001b[39mif\u001b[39;00m \u001b[39mself\u001b[39m\u001b[39m.\u001b[39mpadding_mode \u001b[39m!=\u001b[39m \u001b[39m'\u001b[39m\u001b[39mzeros\u001b[39m\u001b[39m'\u001b[39m:\n\u001b[1;32m    306\u001b[0m     \u001b[39mreturn\u001b[39;00m F\u001b[39m.\u001b[39mconv1d(F\u001b[39m.\u001b[39mpad(\u001b[39minput\u001b[39m, \u001b[39mself\u001b[39m\u001b[39m.\u001b[39m_reversed_padding_repeated_twice, mode\u001b[39m=\u001b[39m\u001b[39mself\u001b[39m\u001b[39m.\u001b[39mpadding_mode),\n\u001b[1;32m    307\u001b[0m                     weight, bias, \u001b[39mself\u001b[39m\u001b[39m.\u001b[39mstride,\n\u001b[1;32m    308\u001b[0m                     _single(\u001b[39m0\u001b[39m), \u001b[39mself\u001b[39m\u001b[39m.\u001b[39mdilation, \u001b[39mself\u001b[39m\u001b[39m.\u001b[39mgroups)\n\u001b[0;32m--> 309\u001b[0m \u001b[39mreturn\u001b[39;00m F\u001b[39m.\u001b[39;49mconv1d(\u001b[39minput\u001b[39;49m, weight, bias, \u001b[39mself\u001b[39;49m\u001b[39m.\u001b[39;49mstride,\n\u001b[1;32m    310\u001b[0m                 \u001b[39mself\u001b[39;49m\u001b[39m.\u001b[39;49mpadding, \u001b[39mself\u001b[39;49m\u001b[39m.\u001b[39;49mdilation, \u001b[39mself\u001b[39;49m\u001b[39m.\u001b[39;49mgroups)\n",
      "\u001b[0;31mRuntimeError\u001b[0m: Given groups=1, weight of size [64, 4, 1], expected input[207, 6, 1] to have 4 channels, but got 6 channels instead"
     ]
    }
   ],
   "source": [
    "train_loss=[]\n",
    "test_mse=[]\n",
    "\n",
    "# Save every 10th epoch model.\n",
    "for epoch in range(1, 300):\n",
    "    loss = train(model, optimizer, train_loader)\n",
    "    mse = test(model, test_loader)\n",
    "    if epoch % 50 == 0:\n",
    "        torch.save(model.state_dict(), f'epoch_{epoch}.pt')\n",
    "    print(f'Epoch: {epoch:02d}, Loss: {loss:.4f}, MSE: {mse:.4f}')\n",
    "    train_loss.append(loss)\n",
    "    test_mse.append(mse)\n",
    "    \n",
    "fig, (ax1, ax2) = plt.subplots(2, figsize=(12, 6), sharex=True)\n",
    "ax1.plot(train_loss)\n",
    "ax1.set_ylabel(\"training loss\")\n",
    "ax2.plot(test_mse)\n",
    "ax2.set_ylabel(\"mse error\")\n",
    "ax2.set_xlabel(\"epochs\")    "
   ]
  },
  {
   "cell_type": "code",
   "execution_count": null,
   "id": "47e57769",
   "metadata": {},
   "outputs": [
    {
     "name": "stdout",
     "output_type": "stream",
     "text": [
      "/home/atas/RESEARCH/traversablity_estimation_net/scripts\n",
      "MSE: 0.08542095709982789\n"
     ]
    }
   ],
   "source": [
    "visual_test_loader = DataLoader(test_dataset, batch_size=1, shuffle=False)\n",
    "\n",
    "# Load the model\n",
    "# print curdir()\n",
    "print(os.getcwd())\n",
    "\n",
    "net = PointnetCurv()\n",
    "net.load_state_dict(torch.load('/home/atas/RESEARCH/traversablity_estimation_net/weights/epoch_250.pt'))\n",
    "net.eval()\n",
    "\n",
    "error = 0.0\n",
    "for data in visual_test_loader:\n",
    " \n",
    "    inputs, labels = data.pos, data.y\n",
    "    inputs = inputs.reshape((inputs.shape[0], inputs.shape[1], 1))\n",
    "    outputs = net(inputs, data.face, data.batch)\n",
    "    \n",
    "    error += torch.pow((outputs - data.y), 2).sum().item()\n",
    "    outputs = outputs.cpu().detach().numpy()\n",
    "    labels = labels.cpu().detach().numpy()\n",
    "\n",
    "error = error / len(visual_test_loader)\n",
    "print(\"MSE: \" + str(error))    \n"
   ]
  }
 ],
 "metadata": {
  "kernelspec": {
   "display_name": "Python 3 (ipykernel)",
   "language": "python",
   "name": "python3"
  },
  "language_info": {
   "codemirror_mode": {
    "name": "ipython",
    "version": 3
   },
   "file_extension": ".py",
   "mimetype": "text/x-python",
   "name": "python",
   "nbconvert_exporter": "python",
   "pygments_lexer": "ipython3",
   "version": "3.10.12"
  }
 },
 "nbformat": 4,
 "nbformat_minor": 5
}
